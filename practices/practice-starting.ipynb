{
  "cells": [
    {
      "cell_type": "markdown",
      "metadata": {
        "id": "3bLxDkexkc7O"
      },
      "source": [
        "# (연습) 프로그래밍 맛보기"
      ]
    },
    {
      "cell_type": "markdown",
      "metadata": {
        "id": "MgBCG_zE0A9f"
      },
      "source": [
        "**주의 사항**\n",
        "\n",
        "* 기존에 작성된 코드 셀과 텍스트 셀은 수정하지 않는다.\n",
        "* 필요한 경우 코드 셀 또는 텍스트 셀을 추가해서 사용한다.\n",
        "* 실습 파일을 제출할 때 구글 드라이브의 링크를 이용하여 누구나 공유할 수 있도록 설정한다."
      ]
    },
    {
      "cell_type": "markdown",
      "metadata": {
        "id": "91WjYKQzkc7V"
      },
      "source": [
        "**문제 1**"
      ]
    },
    {
      "cell_type": "markdown",
      "metadata": {
        "id": "GWpNRbQ0kc7V"
      },
      "source": [
        "아래 명령문들을 실행해서 오류가 발생하는 경우 오류의 종류와 원인을 설명하고 수정하라.\n",
        "오류가 발생하지 않으면 실행 결과를 설명한다."
      ]
    },
    {
      "cell_type": "markdown",
      "metadata": {
        "id": "m2HtLKLMkc7W"
      },
      "source": [
        "(1)"
      ]
    },
    {
      "cell_type": "code",
      "execution_count": null,
      "metadata": {
        "id": "E_dFZuZ3kc7W"
      },
      "outputs": [],
      "source": [
        "print(\"Hello World)"
      ]
    },
    {
      "cell_type": "code",
      "execution_count": 1,
      "metadata": {
        "colab": {
          "base_uri": "https://localhost:8080/"
        },
        "id": "IHPrkisXkc7X",
        "outputId": "7e4640e2-a778-4620-c943-895c3ecf02a2"
      },
      "outputs": [
        {
          "output_type": "stream",
          "name": "stdout",
          "text": [
            "Hello World\n"
          ]
        }
      ],
      "source": [
        "# 코드를 작성한다.\n",
        "# 오류원인 : 큰따옴표를 붙이지 않음\n",
        "print(\"Hello World\")\n"
      ]
    },
    {
      "cell_type": "markdown",
      "metadata": {
        "id": "K6KS7Kbdkc7Y"
      },
      "source": [
        "(2)"
      ]
    },
    {
      "cell_type": "code",
      "execution_count": 2,
      "metadata": {
        "colab": {
          "base_uri": "https://localhost:8080/",
          "height": 108
        },
        "id": "yT14xdwekc7Y",
        "outputId": "1faa1636-7844-443e-f25c-3cdb2a91d87e"
      },
      "outputs": [
        {
          "output_type": "error",
          "ename": "SyntaxError",
          "evalue": "invalid syntax. Perhaps you forgot a comma? (<ipython-input-2-cdfda1e99280>, line 1)",
          "traceback": [
            "\u001b[0;36m  File \u001b[0;32m\"<ipython-input-2-cdfda1e99280>\"\u001b[0;36m, line \u001b[0;32m1\u001b[0m\n\u001b[0;31m    print(21 8)\u001b[0m\n\u001b[0m          ^\u001b[0m\n\u001b[0;31mSyntaxError\u001b[0m\u001b[0;31m:\u001b[0m invalid syntax. Perhaps you forgot a comma?\n"
          ]
        }
      ],
      "source": [
        "print(21 8)"
      ]
    },
    {
      "cell_type": "code",
      "execution_count": 4,
      "metadata": {
        "colab": {
          "base_uri": "https://localhost:8080/"
        },
        "id": "s0Gqrtukkc7Y",
        "outputId": "037dd9a7-685b-439f-dce7-fcb36c350ee2"
      },
      "outputs": [
        {
          "output_type": "stream",
          "name": "stdout",
          "text": [
            "21 8\n"
          ]
        }
      ],
      "source": [
        "# 코드를 작성한다.\n",
        "# 오류원인 : 쉼표가 있어야한다.\n",
        "print(21,8)"
      ]
    },
    {
      "cell_type": "markdown",
      "metadata": {
        "id": "1voPne38kc7Z"
      },
      "source": [
        "(3)"
      ]
    },
    {
      "cell_type": "code",
      "source": [],
      "metadata": {
        "id": "gu6b46gohC-D"
      },
      "execution_count": null,
      "outputs": []
    },
    {
      "cell_type": "markdown",
      "source": [
        "# 새 섹션"
      ],
      "metadata": {
        "id": "BMKOipzQhFeF"
      }
    },
    {
      "cell_type": "code",
      "execution_count": null,
      "metadata": {
        "id": "2zvyiJ1xkc7Z"
      },
      "outputs": [],
      "source": [
        "print(2++2)"
      ]
    },
    {
      "cell_type": "code",
      "execution_count": 5,
      "metadata": {
        "colab": {
          "base_uri": "https://localhost:8080/"
        },
        "id": "JMzYfX_ikc7Z",
        "outputId": "f5a5d5f1-8e10-46ab-8e2b-2b1c0a0396cd"
      },
      "outputs": [
        {
          "output_type": "stream",
          "name": "stdout",
          "text": [
            "4\n"
          ]
        }
      ],
      "source": [
        "# 코드를 작성한다.\n",
        "# 오류원인 : +가 하나만 있어야한다.\n",
        "print(2+2)"
      ]
    },
    {
      "cell_type": "markdown",
      "metadata": {
        "id": "NOV1RJxgkc7Z"
      },
      "source": [
        "**문제 2**"
      ]
    },
    {
      "cell_type": "markdown",
      "metadata": {
        "id": "MFAQet5ekc7a"
      },
      "source": [
        "변수 할당 명령문과 관련하여 주의해야할 점들을 다룬다. 아래 명령문들을 실행해서 오류가 발생하는 경우 오류의 종류와 원인을 설명하고 수정한다."
      ]
    },
    {
      "cell_type": "markdown",
      "metadata": {
        "id": "1qNIKcXKkc7a"
      },
      "source": [
        "(1)"
      ]
    },
    {
      "cell_type": "code",
      "execution_count": 45,
      "metadata": {
        "id": "mQKGoMu7kc7a"
      },
      "outputs": [],
      "source": [
        "x = 2;"
      ]
    },
    {
      "cell_type": "code",
      "execution_count": 48,
      "metadata": {
        "id": "uzQGe0E0kc7a"
      },
      "outputs": [],
      "source": [
        "# 코드를 작성한다.\n",
        "# 오류원인 : 없음 , 주로 세미콜론은 한줄에 여러개의 python 명령어를 사용할 때 구분시 사용\n"
      ]
    },
    {
      "cell_type": "markdown",
      "metadata": {
        "id": "iAD4O4r3kc7a"
      },
      "source": [
        "(2)"
      ]
    },
    {
      "cell_type": "code",
      "execution_count": 24,
      "metadata": {
        "colab": {
          "base_uri": "https://localhost:8080/",
          "height": 108
        },
        "id": "m27ukFSxkc7b",
        "outputId": "22f0ed49-224e-4f65-c06e-1f5525deafa7"
      },
      "outputs": [
        {
          "output_type": "error",
          "ename": "SyntaxError",
          "evalue": "invalid syntax (<ipython-input-24-c185002cb352>, line 1)",
          "traceback": [
            "\u001b[0;36m  File \u001b[0;32m\"<ipython-input-24-c185002cb352>\"\u001b[0;36m, line \u001b[0;32m1\u001b[0m\n\u001b[0;31m    z = x y\u001b[0m\n\u001b[0m          ^\u001b[0m\n\u001b[0;31mSyntaxError\u001b[0m\u001b[0;31m:\u001b[0m invalid syntax\n"
          ]
        }
      ],
      "source": [
        "z = x y"
      ]
    },
    {
      "cell_type": "code",
      "execution_count": 43,
      "metadata": {
        "id": "KMTLbwRGkc7b"
      },
      "outputs": [],
      "source": [
        "# 코드를 작성한다.\n",
        "#오류원인 : 공백으로 구분된 두 값은 연산자가 아니므로 잘못된 코드이다.(구문 오류)\n",
        "x= 10\n",
        "y= 2\n",
        "z= x+y\n"
      ]
    },
    {
      "cell_type": "markdown",
      "metadata": {
        "id": "CRlCoD0Nkc7b"
      },
      "source": [
        "(3)"
      ]
    },
    {
      "cell_type": "code",
      "execution_count": 27,
      "metadata": {
        "colab": {
          "base_uri": "https://localhost:8080/",
          "height": 180
        },
        "id": "ldDb5JmUkc7b",
        "outputId": "577d5ffb-a653-4a55-a377-e9818e1e27b8"
      },
      "outputs": [
        {
          "output_type": "error",
          "ename": "NameError",
          "evalue": "name 'oddd' is not defined",
          "traceback": [
            "\u001b[0;31m---------------------------------------------------------------------------\u001b[0m",
            "\u001b[0;31mNameError\u001b[0m                                 Traceback (most recent call last)",
            "\u001b[0;32m<ipython-input-27-3bd68f120562>\u001b[0m in \u001b[0;36m<cell line: 0>\u001b[0;34m()\u001b[0m\n\u001b[1;32m      1\u001b[0m \u001b[0meven\u001b[0m \u001b[0;34m=\u001b[0m \u001b[0;36m3\u001b[0m\u001b[0;34m\u001b[0m\u001b[0;34m\u001b[0m\u001b[0m\n\u001b[1;32m      2\u001b[0m \u001b[0modd\u001b[0m \u001b[0;34m=\u001b[0m \u001b[0;36m17\u001b[0m\u001b[0;34m\u001b[0m\u001b[0;34m\u001b[0m\u001b[0m\n\u001b[0;32m----> 3\u001b[0;31m \u001b[0mprint\u001b[0m\u001b[0;34m(\u001b[0m\u001b[0meven\u001b[0m \u001b[0;34m+\u001b[0m \u001b[0moddd\u001b[0m\u001b[0;34m)\u001b[0m\u001b[0;34m\u001b[0m\u001b[0;34m\u001b[0m\u001b[0m\n\u001b[0m",
            "\u001b[0;31mNameError\u001b[0m: name 'oddd' is not defined"
          ]
        }
      ],
      "source": [
        "even = 3\n",
        "odd = 17\n",
        "print(even + oddd)"
      ]
    },
    {
      "cell_type": "code",
      "execution_count": 10,
      "metadata": {
        "colab": {
          "base_uri": "https://localhost:8080/"
        },
        "id": "XJ0evV3Nkc7b",
        "outputId": "ac4d6c7f-509d-4808-f69b-d971c2e2b9e7"
      },
      "outputs": [
        {
          "output_type": "stream",
          "name": "stdout",
          "text": [
            "20\n"
          ]
        }
      ],
      "source": [
        "# 코드를 작성한다.\n",
        "# print에서 odd인데 oddd로 오타가 났다.\n",
        "even = 3\n",
        "odd = 17\n",
        "print(even + odd)"
      ]
    },
    {
      "cell_type": "markdown",
      "metadata": {
        "id": "fWuyRhwokc7c"
      },
      "source": [
        "(4)"
      ]
    },
    {
      "cell_type": "code",
      "execution_count": 16,
      "metadata": {
        "colab": {
          "base_uri": "https://localhost:8080/",
          "height": 180
        },
        "id": "Yk4Tzdohkc7c",
        "outputId": "d378b35e-abde-408e-9383-dc07ba741a48"
      },
      "outputs": [
        {
          "output_type": "error",
          "ename": "ZeroDivisionError",
          "evalue": "division by zero",
          "traceback": [
            "\u001b[0;31m---------------------------------------------------------------------------\u001b[0m",
            "\u001b[0;31mZeroDivisionError\u001b[0m                         Traceback (most recent call last)",
            "\u001b[0;32m<ipython-input-16-13d8b99cd052>\u001b[0m in \u001b[0;36m<cell line: 0>\u001b[0;34m()\u001b[0m\n\u001b[1;32m      2\u001b[0m \u001b[0mzero\u001b[0m \u001b[0;34m=\u001b[0m \u001b[0;36m0\u001b[0m\u001b[0;34m\u001b[0m\u001b[0;34m\u001b[0m\u001b[0m\n\u001b[1;32m      3\u001b[0m \u001b[0;34m\u001b[0m\u001b[0m\n\u001b[0;32m----> 4\u001b[0;31m \u001b[0mprint\u001b[0m\u001b[0;34m(\u001b[0m\u001b[0mx\u001b[0m\u001b[0;34m/\u001b[0m\u001b[0mzero\u001b[0m\u001b[0;34m)\u001b[0m\u001b[0;34m\u001b[0m\u001b[0;34m\u001b[0m\u001b[0m\n\u001b[0m",
            "\u001b[0;31mZeroDivisionError\u001b[0m: division by zero"
          ]
        }
      ],
      "source": [
        "x = 3\n",
        "zero = 0\n",
        "\n",
        "print(x/zero)"
      ]
    },
    {
      "cell_type": "code",
      "execution_count": 28,
      "metadata": {
        "colab": {
          "base_uri": "https://localhost:8080/"
        },
        "id": "BdGyIXiFkc7c",
        "outputId": "161db7f3-f0ec-4565-964f-3540b90c71d4"
      },
      "outputs": [
        {
          "output_type": "stream",
          "name": "stdout",
          "text": [
            "0으로 나눌 수 없습니다.\n",
            "0으로 나눌 수 없습니다.\n"
          ]
        }
      ],
      "source": [
        "# 코드를 작성한다.\n",
        "# 어떤 수를 0으로 나누려고 하면 ZeroDivisionError라는 오류가 뜬다.\n",
        "# 해결방법은 try - except문을 사용하면된다.\n",
        "x = 3\n",
        "zero = 0\n",
        "\n",
        "try:\n",
        "  result = x/zero\n",
        "except ZeroDivisionError:\n",
        "  print(\"0으로 나눌 수 없습니다.\")\n",
        "\n",
        "#또는 0으로 나누지 않도록 조건문을 추가하는 방법도 있다.\n",
        "x = 3\n",
        "zero = 0\n",
        "\n",
        "if zero !=0:\n",
        "  result = x/zero\n",
        "else:\n",
        "  print(\"0으로 나눌 수 없습니다.\")"
      ]
    },
    {
      "cell_type": "markdown",
      "metadata": {
        "id": "CYHCwrgfkc7c"
      },
      "source": [
        "**문제 3**"
      ]
    },
    {
      "cell_type": "markdown",
      "metadata": {
        "id": "qr8ghi-akc7c"
      },
      "source": [
        "언급된 값을 표현하는 수식을 표현한 다음에 실행하라."
      ]
    },
    {
      "cell_type": "markdown",
      "metadata": {
        "id": "Xt66j1p9kc7d"
      },
      "source": [
        "(1) 정수 13에서 정수 19 빼기"
      ]
    },
    {
      "cell_type": "markdown",
      "metadata": {
        "id": "HUgLvRw-kc7d"
      },
      "source": [
        "힌트: 뺄셈 연산자를 활용한다."
      ]
    },
    {
      "cell_type": "code",
      "execution_count": 9,
      "metadata": {
        "colab": {
          "base_uri": "https://localhost:8080/"
        },
        "id": "LIi9PU_Pkc7d",
        "outputId": "a4cc2e0a-b8c3-4b94-c6c9-b0da515de5c7"
      },
      "outputs": [
        {
          "output_type": "stream",
          "name": "stdout",
          "text": [
            "-6\n"
          ]
        }
      ],
      "source": [
        "# 코드를 작성한다.\n",
        "print(13-19)"
      ]
    },
    {
      "cell_type": "markdown",
      "metadata": {
        "id": "I_ZjQyzKkc7d"
      },
      "source": [
        "(2) 정수 81을 정수 3으로 나누기"
      ]
    },
    {
      "cell_type": "markdown",
      "source": [],
      "metadata": {
        "id": "jh2xfLq10vMd"
      }
    },
    {
      "cell_type": "markdown",
      "metadata": {
        "id": "Tvr0bIAjkc7d"
      },
      "source": [
        "힌트: 나눗셈 연산자를 활용한다."
      ]
    },
    {
      "cell_type": "code",
      "execution_count": 31,
      "metadata": {
        "colab": {
          "base_uri": "https://localhost:8080/"
        },
        "id": "bcc3MdZJkc7e",
        "outputId": "ed91b34f-e0ea-48c5-92c5-6ff9513a4aba"
      },
      "outputs": [
        {
          "output_type": "stream",
          "name": "stdout",
          "text": [
            "27.0\n"
          ]
        }
      ],
      "source": [
        "# 코드를 작성한다.\n",
        "print(81/3)"
      ]
    },
    {
      "cell_type": "markdown",
      "metadata": {
        "id": "WwKcMIihkc7e"
      },
      "source": [
        "(3) 정수 100을 정수 7로 나눈 나머지"
      ]
    },
    {
      "cell_type": "markdown",
      "metadata": {
        "id": "6tMVtNOgkc7e"
      },
      "source": [
        "힌트: 나머지 연산자를 활용한다."
      ]
    },
    {
      "cell_type": "code",
      "execution_count": 32,
      "metadata": {
        "colab": {
          "base_uri": "https://localhost:8080/"
        },
        "id": "ur87M2ockc7e",
        "outputId": "666cc911-da66-4d7f-f353-8eb37103f26f"
      },
      "outputs": [
        {
          "output_type": "stream",
          "name": "stdout",
          "text": [
            "2\n"
          ]
        }
      ],
      "source": [
        "# 코드를 작성한다.\n",
        "print(100%7)"
      ]
    },
    {
      "cell_type": "markdown",
      "metadata": {
        "id": "DO-qUwvnkc7e"
      },
      "source": [
        "(4) 정수 7.2의 세제곱"
      ]
    },
    {
      "cell_type": "markdown",
      "source": [],
      "metadata": {
        "id": "uQbFxtet1ALx"
      }
    },
    {
      "cell_type": "markdown",
      "metadata": {
        "id": "pTHEHs7Hkc7k"
      },
      "source": [
        "힌트: 거듭제곱 연산자를 활용한다."
      ]
    },
    {
      "cell_type": "code",
      "execution_count": 34,
      "metadata": {
        "colab": {
          "base_uri": "https://localhost:8080/"
        },
        "id": "18PMobcSkc7k",
        "outputId": "d04387c9-28e9-42e0-fe71-0042efac431c"
      },
      "outputs": [
        {
          "output_type": "stream",
          "name": "stdout",
          "text": [
            "373.24800000000005\n"
          ]
        }
      ],
      "source": [
        "# 코드를 작성한다.\n",
        "print(7.2**3)"
      ]
    },
    {
      "cell_type": "markdown",
      "metadata": {
        "id": "PG2z4sugkc7l"
      },
      "source": [
        "**문제 4**"
      ]
    },
    {
      "cell_type": "markdown",
      "metadata": {
        "id": "iRjLv6gnkc7l"
      },
      "source": [
        "먼저 아래와 같이 두 개의 변수를 선언한다."
      ]
    },
    {
      "cell_type": "code",
      "execution_count": null,
      "metadata": {
        "id": "lRR5iZ9Qkc7l"
      },
      "outputs": [],
      "source": [
        "width = 17\n",
        "height = 12.0"
      ]
    },
    {
      "cell_type": "markdown",
      "metadata": {
        "id": "G_GxO5ROkc7l"
      },
      "source": [
        "언급된 값을 표현하는 수식을 두 변수를 이용하여 표현한 다음에 실행하여라."
      ]
    },
    {
      "cell_type": "markdown",
      "metadata": {
        "id": "VlmTGmn7kc7l"
      },
      "source": [
        "(1) width를 2로 나눗 몫"
      ]
    },
    {
      "cell_type": "code",
      "execution_count": 35,
      "metadata": {
        "colab": {
          "base_uri": "https://localhost:8080/"
        },
        "id": "Lk20koOlkc7l",
        "outputId": "cae4303c-0ea3-44e3-d302-c59685a3aa4f"
      },
      "outputs": [
        {
          "output_type": "stream",
          "name": "stdout",
          "text": [
            "8\n"
          ]
        }
      ],
      "source": [
        "# 코드를 작성한다.\n",
        "width = 17\n",
        "height = 12.0\n",
        "\n",
        "print(width//2)"
      ]
    },
    {
      "cell_type": "markdown",
      "metadata": {
        "id": "dZCNqqvpkc7m"
      },
      "source": [
        "(2) width 나누기 2"
      ]
    },
    {
      "cell_type": "code",
      "execution_count": 36,
      "metadata": {
        "colab": {
          "base_uri": "https://localhost:8080/"
        },
        "id": "gA3QNXTZkc7m",
        "outputId": "e6c63cfb-670c-4b25-b65a-af7bca1f1265"
      },
      "outputs": [
        {
          "output_type": "stream",
          "name": "stdout",
          "text": [
            "8.5\n"
          ]
        }
      ],
      "source": [
        "# 코드를 작성한다.\n",
        "width = 17\n",
        "height = 12.0\n",
        "\n",
        "print(width/2)"
      ]
    },
    {
      "cell_type": "markdown",
      "metadata": {
        "id": "aNhoLB_ykc7m"
      },
      "source": [
        "(3) width 나누기 2.0"
      ]
    },
    {
      "cell_type": "code",
      "execution_count": 37,
      "metadata": {
        "colab": {
          "base_uri": "https://localhost:8080/"
        },
        "id": "D_qj3fXokc7m",
        "outputId": "564ea330-f11b-4917-a276-8c898a8da6bc"
      },
      "outputs": [
        {
          "output_type": "stream",
          "name": "stdout",
          "text": [
            "8.5\n"
          ]
        }
      ],
      "source": [
        "# 코드를 작성한다.\n",
        "width = 17\n",
        "height = 12.0\n",
        "\n",
        "print(width/2.0)"
      ]
    },
    {
      "cell_type": "markdown",
      "metadata": {
        "id": "49xAlKB_kc7n"
      },
      "source": [
        "(4) height 나누기 3"
      ]
    },
    {
      "cell_type": "code",
      "execution_count": 38,
      "metadata": {
        "colab": {
          "base_uri": "https://localhost:8080/"
        },
        "id": "NNQcc2Q0kc7n",
        "outputId": "0cfa88bd-1e8a-46f2-a8d7-6e9042163d98"
      },
      "outputs": [
        {
          "output_type": "stream",
          "name": "stdout",
          "text": [
            "4.0\n"
          ]
        }
      ],
      "source": [
        "# 코드를 작성한다.\n",
        "width = 17\n",
        "height = 12.0\n",
        "\n",
        "print(height/3)"
      ]
    },
    {
      "cell_type": "markdown",
      "metadata": {
        "id": "0d0OmGeikc7o"
      },
      "source": [
        "(5) 2 곱하기 5에 1 더하기"
      ]
    },
    {
      "cell_type": "code",
      "execution_count": 41,
      "metadata": {
        "colab": {
          "base_uri": "https://localhost:8080/"
        },
        "id": "wVyM9rahkc7p",
        "outputId": "855395fd-78e4-47fb-8077-bb3c321a28f2"
      },
      "outputs": [
        {
          "output_type": "stream",
          "name": "stdout",
          "text": [
            "11\n"
          ]
        }
      ],
      "source": [
        "# 코드를 작성한다.\n",
        "width = 17\n",
        "height = 12.0\n",
        "\n",
        "print(2*5+1)"
      ]
    },
    {
      "cell_type": "markdown",
      "metadata": {
        "id": "zdoidwBKkc7p"
      },
      "source": [
        "(6) 2 곱하기 5에 1.0 더하기"
      ]
    },
    {
      "cell_type": "code",
      "execution_count": 42,
      "metadata": {
        "colab": {
          "base_uri": "https://localhost:8080/"
        },
        "id": "94XjYbmJkc7p",
        "outputId": "66270a67-1f47-4635-c545-0e354b462503"
      },
      "outputs": [
        {
          "output_type": "stream",
          "name": "stdout",
          "text": [
            "11.0\n"
          ]
        }
      ],
      "source": [
        "# 코드를 작성한다.\n",
        "width = 17\n",
        "height = 12.0\n",
        "\n",
        "print(2*5+1.0)"
      ]
    },
    {
      "cell_type": "markdown",
      "metadata": {
        "id": "fjJFIm7Ykc7p"
      },
      "source": [
        "**문제 5**"
      ]
    },
    {
      "cell_type": "markdown",
      "metadata": {
        "id": "pN--9Afhkc7p"
      },
      "source": [
        "오전 6시 52분에 집을 떠나서, 가볍게 (km당 8분 15초 소요) 1km를 뛰고,\n",
        "이어서 좀 빠르게 (km당 7분 12초 소요) 3km를 뛴 후, 다시 가볍게 1km를 마저 달려 집으로 돌아오면\n",
        "집에 도착하는 시간을 계산하여 아래처럼 출력하는 코드를 작성하라.\n",
        "\n",
        "    집에 도착 시간: 7 시 30 분 6 초\n",
        "\n",
        "힌트: 정수 나눗셈의 몫과 나머지 연산자 활용"
      ]
    },
    {
      "cell_type": "code",
      "execution_count": 49,
      "metadata": {
        "colab": {
          "base_uri": "https://localhost:8080/"
        },
        "id": "BJOv0EaFkc7q",
        "outputId": "444b6cba-355f-446f-b954-c7b360e2d9c9"
      },
      "outputs": [
        {
          "output_type": "stream",
          "name": "stdout",
          "text": [
            "60.15\n"
          ]
        }
      ],
      "source": [
        "# 코드를 작성한다.\n",
        "시 = 6\n",
        "분 = 52\n",
        "print(분+8.15)"
      ]
    }
  ],
  "metadata": {
    "colab": {
      "name": "practice-starting.ipynb",
      "provenance": [],
      "toc_visible": true
    },
    "kernelspec": {
      "display_name": "Python 3 (ipykernel)",
      "language": "python",
      "name": "python3"
    },
    "language_info": {
      "codemirror_mode": {
        "name": "ipython",
        "version": 3
      },
      "file_extension": ".py",
      "mimetype": "text/x-python",
      "name": "python",
      "nbconvert_exporter": "python",
      "pygments_lexer": "ipython3",
      "version": "3.12.7"
    }
  },
  "nbformat": 4,
  "nbformat_minor": 0
}